{
 "cells": [
  {
   "cell_type": "code",
   "execution_count": 1,
   "metadata": {
    "colab": {},
    "colab_type": "code",
    "id": "Azx-162uO6Ki"
   },
   "outputs": [],
   "source": [
    "import pandas as pd\n",
    "import numpy as np\n",
    "from IPython.display import Image\n",
    "np.set_printoptions(precision = 3)"
   ]
  },
  {
   "cell_type": "code",
   "execution_count": 2,
   "metadata": {
    "colab": {
     "base_uri": "https://localhost:8080/",
     "height": 276
    },
    "colab_type": "code",
    "id": "iivDuU8FPA-6",
    "outputId": "5539609a-90e9-440b-8cee-4b886a2d572e"
   },
   "outputs": [
    {
     "name": "stdout",
     "output_type": "stream",
     "text": [
      "        74  -7.82   8.79  -9.66  -8.16  -7.52   -8.5  -9.85  4.17  -8.98  ...  \\\n",
      "0      100   4.08  -0.29   6.36   4.37  -2.38  -9.66  -0.73 -5.34   8.88  ...   \n",
      "1       49  99.00  99.00  99.00  99.00   9.03   9.27   9.03  9.27  99.00  ...   \n",
      "2       48  99.00   8.35  99.00  99.00   1.80   8.16  -2.82  6.21  99.00  ...   \n",
      "3       91   8.50   4.61  -4.17  -5.39   1.36   1.60   7.04  4.61  -0.44  ...   \n",
      "4      100  -6.17  -3.54   0.44  -8.50  -7.09  -4.32  -8.69 -0.87  -6.65  ...   \n",
      "...    ...    ...    ...    ...    ...    ...    ...    ...   ...    ...  ...   \n",
      "24977  100   0.44   7.43   9.08   2.33   3.20   6.75  -8.79 -0.53  -8.74  ...   \n",
      "24978   91   9.13  -8.16   8.59   9.08   0.87  -8.93  -3.50  5.78  -8.11  ...   \n",
      "24979   39  99.00  99.00  99.00  99.00  -7.77  99.00   6.70 -6.75  99.00  ...   \n",
      "24980   37  99.00  99.00  99.00  99.00  -9.71  99.00   4.56 -8.30  99.00  ...   \n",
      "24981   72   2.43   2.67  -3.98   4.27  -2.28   7.33   2.33  4.56   6.75  ...   \n",
      "\n",
      "       2.82.2  99.18  99.19  99.20  99.21  99.22  -5.63  99.23  99.24  99.25  \n",
      "0        2.82  -4.95  -0.29   7.86  -0.19  -2.14   3.06   0.34  -4.32   1.07  \n",
      "1       99.00  99.00  99.00   9.08  99.00  99.00  99.00  99.00  99.00  99.00  \n",
      "2       99.00  99.00  99.00   0.53  99.00  99.00  99.00  99.00  99.00  99.00  \n",
      "3        5.19   5.58   4.27   5.19   5.73   1.55   3.11   6.55   1.80   1.60  \n",
      "4       -3.54  -6.89  -0.68  -2.96  -2.18  -3.35   0.05  -9.08  -5.05  -3.45  \n",
      "...       ...    ...    ...    ...    ...    ...    ...    ...    ...    ...  \n",
      "24977    8.83  -1.21   9.22  -6.70   8.45   9.03   6.55   8.69   8.79   7.43  \n",
      "24978   -1.17  -5.73  -1.46   0.24   9.22  -8.20  -7.23  -8.59   9.13   8.45  \n",
      "24979   99.00  99.00  99.00  99.00  99.00  99.00  99.00  99.00  99.00  99.00  \n",
      "24980   99.00  99.00  99.00  99.00  99.00  99.00  99.00  99.00  99.00  99.00  \n",
      "24981   99.00  99.00  99.00  99.00  99.00  99.00  99.00  99.00  99.00  99.00  \n",
      "\n",
      "[24982 rows x 101 columns]\n"
     ]
    }
   ],
   "source": [
    "df = pd.read_csv('jester-data-1.csv')\n",
    "print(df)"
   ]
  },
  {
   "cell_type": "code",
   "execution_count": 3,
   "metadata": {
    "colab": {
     "base_uri": "https://localhost:8080/",
     "height": 36
    },
    "colab_type": "code",
    "id": "RoRa5BXQPL3f",
    "outputId": "417b9ccd-597c-4056-ee51-9d9a147ec000"
   },
   "outputs": [
    {
     "name": "stdout",
     "output_type": "stream",
     "text": [
      "(24982, 101)\n"
     ]
    }
   ],
   "source": [
    "arr = df.values\n",
    "print(arr.shape)"
   ]
  },
  {
   "cell_type": "code",
   "execution_count": 4,
   "metadata": {
    "colab": {
     "base_uri": "https://localhost:8080/",
     "height": 36
    },
    "colab_type": "code",
    "id": "BSw1IHSyPTcL",
    "outputId": "112fd410-a3c9-4169-c660-2a88eea97d7d"
   },
   "outputs": [
    {
     "name": "stdout",
     "output_type": "stream",
     "text": [
      "1835282 (1835282,)\n"
     ]
    }
   ],
   "source": [
    "rated = np.where(arr!=99)\n",
    "print(len(rated[0]), rated[1].shape)"
   ]
  },
  {
   "cell_type": "code",
   "execution_count": 7,
   "metadata": {
    "colab": {},
    "colab_type": "code",
    "id": "811TzpLFPlaN"
   },
   "outputs": [],
   "source": [
    "def replace(orig, percentage=0.1):\n",
    "    \"\"\"\n",
    "    Replaces 'percentage'% of the original values in 'orig' with 99's\n",
    "    :param orig: original data array\n",
    "    :param percentage: percentage of values to replace (0<percentage<1)\n",
    "    \"\"\"\n",
    "    new_data = orig.copy()\n",
    "    rated = np.where(arr!=99)\n",
    "    n_rated = len(rated[0])\n",
    "    idx = np.random.choice(n_rated, size=int(percentage*n_rated), replace=False)\n",
    "    new_data[rated[0][idx], rated[1][idx]] = 99\n",
    "    return new_data, (rated[0][idx], rated[1][idx])\n"
   ]
  },
  {
   "cell_type": "code",
   "execution_count": 8,
   "metadata": {
    "colab": {},
    "colab_type": "code",
    "id": "VZ3dnTF3RFW4"
   },
   "outputs": [],
   "source": [
    "new_arr, idx = replace(arr, 0.1)"
   ]
  },
  {
   "cell_type": "code",
   "execution_count": 9,
   "metadata": {
    "colab": {
     "base_uri": "https://localhost:8080/",
     "height": 36
    },
    "colab_type": "code",
    "id": "hj0yl47dRwKy",
    "outputId": "242e8ca0-65ac-47bf-a081-fd30119c8d03"
   },
   "outputs": [
    {
     "data": {
      "text/plain": [
       "8.59"
      ]
     },
     "execution_count": 9,
     "metadata": {},
     "output_type": "execute_result"
    }
   ],
   "source": [
    "\n",
    "arr[idx[0][0], idx[1][0]]"
   ]
  },
  {
   "cell_type": "code",
   "execution_count": 36,
   "metadata": {
    "colab": {
     "base_uri": "https://localhost:8080/",
     "height": 36
    },
    "colab_type": "code",
    "id": "NTpRwdPXR1GZ",
    "outputId": "4daf2ffb-793c-4281-a427-8d78bdcbe16d"
   },
   "outputs": [
    {
     "data": {
      "text/plain": [
       "99.0"
      ]
     },
     "execution_count": 36,
     "metadata": {
      "tags": []
     },
     "output_type": "execute_result"
    }
   ],
   "source": [
    "new_arr[idx[0][0], idx[1][0]]"
   ]
  }
 ],
 "metadata": {
  "colab": {
   "name": "Untitled0.ipynb",
   "provenance": []
  },
  "kernelspec": {
   "display_name": "Python 3",
   "language": "python",
   "name": "python3"
  },
  "language_info": {
   "codemirror_mode": {
    "name": "ipython",
    "version": 3
   },
   "file_extension": ".py",
   "mimetype": "text/x-python",
   "name": "python",
   "nbconvert_exporter": "python",
   "pygments_lexer": "ipython3",
   "version": "3.6.8"
  },
  "toc": {
   "base_numbering": 1,
   "nav_menu": {},
   "number_sections": true,
   "sideBar": true,
   "skip_h1_title": false,
   "title_cell": "Table of Contents",
   "title_sidebar": "Contents",
   "toc_cell": false,
   "toc_position": {},
   "toc_section_display": true,
   "toc_window_display": false
  }
 },
 "nbformat": 4,
 "nbformat_minor": 1
}
